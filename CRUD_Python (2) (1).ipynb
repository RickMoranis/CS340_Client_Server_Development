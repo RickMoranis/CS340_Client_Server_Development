{
 "cells": [
  {
   "cell_type": "code",
   "execution_count": 1,
   "id": "eefbe50b",
   "metadata": {},
   "outputs": [
    {
     "ename": "TypeError",
     "evalue": "__init__() missing 2 required positional arguments: 'user' and 'password'",
     "output_type": "error",
     "traceback": [
      "\u001b[0;31m---------------------------------------------------------------------------\u001b[0m",
      "\u001b[0;31mTypeError\u001b[0m                                 Traceback (most recent call last)",
      "Input \u001b[0;32mIn [1]\u001b[0m, in \u001b[0;36m<cell line: 4>\u001b[0;34m()\u001b[0m\n\u001b[1;32m      1\u001b[0m \u001b[38;5;28;01mfrom\u001b[39;00m \u001b[38;5;21;01manimal_shelter\u001b[39;00m \u001b[38;5;28;01mimport\u001b[39;00m AnimalShelter\n\u001b[1;32m      3\u001b[0m \u001b[38;5;66;03m#Database connection Instance\u001b[39;00m\n\u001b[0;32m----> 4\u001b[0m db \u001b[38;5;241m=\u001b[39m \u001b[43mAnimalShelter\u001b[49m\u001b[43m(\u001b[49m\u001b[43m)\u001b[49m\n\u001b[1;32m      6\u001b[0m \u001b[38;5;66;03m#Document to insert\u001b[39;00m\n\u001b[1;32m      7\u001b[0m doc \u001b[38;5;241m=\u001b[39m {\n\u001b[1;32m      8\u001b[0m     \u001b[38;5;124m\"\u001b[39m\u001b[38;5;124mname\u001b[39m\u001b[38;5;124m\"\u001b[39m: \u001b[38;5;124m\"\u001b[39m\u001b[38;5;124mTitan\u001b[39m\u001b[38;5;124m\"\u001b[39m,\n\u001b[1;32m      9\u001b[0m     \u001b[38;5;124m\"\u001b[39m\u001b[38;5;124manimal_type\u001b[39m\u001b[38;5;124m\"\u001b[39m: \u001b[38;5;124m\"\u001b[39m\u001b[38;5;124mDog\u001b[39m\u001b[38;5;124m\"\u001b[39m,\n\u001b[1;32m     10\u001b[0m     \u001b[38;5;124m\"\u001b[39m\u001b[38;5;124mage_upon_outcome\u001b[39m\u001b[38;5;124m\"\u001b[39m: \u001b[38;5;241m10\u001b[39m,\n\u001b[1;32m     11\u001b[0m     \u001b[38;5;124m\"\u001b[39m\u001b[38;5;124mbreed\u001b[39m\u001b[38;5;124m\"\u001b[39m: \u001b[38;5;124m\"\u001b[39m\u001b[38;5;124mLeonberger\u001b[39m\u001b[38;5;124m\"\u001b[39m\n\u001b[1;32m     12\u001b[0m }\n",
      "\u001b[0;31mTypeError\u001b[0m: __init__() missing 2 required positional arguments: 'user' and 'password'"
     ]
    }
   ],
   "source": [
    "from animal_shelter import AnimalShelter\n",
    "\n",
    "#Database connection Instance\n",
    "db = AnimalShelter()\n",
    "\n",
    "#Document to insert\n",
    "doc = {\n",
    "    \"name\": \"Titan\",\n",
    "    \"animal_type\": \"Dog\",\n",
    "    \"age_upon_outcome\": 10,\n",
    "    \"breed\": \"Leonberger\"\n",
    "}\n",
    "\n",
    "#Insert data into the collection\n",
    "result = db.create(doc)\n",
    "\n",
    "#Check for successful data insertion\n",
    "if result:\n",
    "    print(\"Successfully inserted data into the animals collection\")\n",
    "    \n",
    "else:\n",
    "    print(\"Data has failed to be inserted into the animals collection\")\n",
    "\n",
    "#Query the animals collection for all documents containing the species field \"Dog\"\n",
    "query_filter = {\"animal_type\": \"Dog\"}\n",
    "\n",
    "result = db.read(query_filter)\n",
    "\n",
    "#Print the results of the query search\n",
    "result = db.read(query_filter)\n",
    "\n",
    "print(result)\n",
    "\n",
    "#Update the age of the dog named \"Titan\" to 11\n",
    "update_data = {\"$set\": {\"age_upon_outcome\": 11}}\n",
    "\n",
    "updated = db.update({\"name\": \"Titan\"}, update_data)\n",
    "\n",
    "#Check for update success\n",
    "if updated:\n",
    "    print(\"Successfully updated the age of the dog named Titan\")\n",
    "    \n",
    "else:\n",
    "    print(\"Failed to update the age of the dog named Titan\")\n",
    "    \n",
    "#Delete the dog named \"Titan\"\n",
    "deleted = db.delete({\"name\": \"Titan\"})\n",
    "\n",
    "#Check the delete was successful\n",
    "if deleted:\n",
    "    print(\"Successfully deleted the dog named Titan\")\n",
    "    \n",
    "else:\n",
    "    print(\"Failed to delete the dog named Titan\")\n"
   ]
  },
  {
   "cell_type": "code",
   "execution_count": null,
   "id": "718116b8",
   "metadata": {},
   "outputs": [],
   "source": []
  },
  {
   "cell_type": "code",
   "execution_count": null,
   "id": "ab1c1188",
   "metadata": {},
   "outputs": [],
   "source": []
  }
 ],
 "metadata": {
  "kernelspec": {
   "display_name": "Python 3 (ipykernel)",
   "language": "python",
   "name": "python3"
  },
  "language_info": {
   "codemirror_mode": {
    "name": "ipython",
    "version": 3
   },
   "file_extension": ".py",
   "mimetype": "text/x-python",
   "name": "python",
   "nbconvert_exporter": "python",
   "pygments_lexer": "ipython3",
   "version": "3.9.12"
  }
 },
 "nbformat": 4,
 "nbformat_minor": 5
}
